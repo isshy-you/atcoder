{
 "cells": [
  {
   "cell_type": "code",
   "execution_count": null,
   "metadata": {},
   "outputs": [],
   "source": [
    "# -*- coding: utf-8 -*-\n",
    "# pip install requests\n",
    "# pip install bs4\n",
    "import requests\n",
    "from bs4 import BeautifulSoup\n",
    "URL = 'https://atcoder.jp/contests/abc282/tasks/abc282_c'\n",
    "res = requests.get(URL)\n",
    "soup = BeautifulSoup(res.text,\"html.parser\")\n",
    "pre = soup.select('span.lang-ja div.part pre')\n",
    "flag = True\n",
    "cnt = 1\n",
    "for ii,jj in enumerate(pre):\n",
    "    if jj.string != None :\n",
    "        if flag : \n",
    "            print('<<< input-{} <<<'.format(cnt))\n",
    "        else : \n",
    "            print('>>> output-{} >>>'.format(cnt))\n",
    "            cnt = cnt + 1\n",
    "        print(jj.string)\n",
    "        flag = not flag"
   ]
  }
 ],
 "metadata": {
  "kernelspec": {
   "display_name": "Python 3",
   "language": "python",
   "name": "python3"
  },
  "language_info": {
   "codemirror_mode": {
    "name": "ipython",
    "version": 3
   },
   "file_extension": ".py",
   "mimetype": "text/x-python",
   "name": "python",
   "nbconvert_exporter": "python",
   "pygments_lexer": "ipython3",
   "version": "3.10.5"
  },
  "orig_nbformat": 4,
  "vscode": {
   "interpreter": {
    "hash": "7d747f2597ecdd98863f8e9546bc696bb72556a9755b11ab129b8e1f6fb6c0ce"
   }
  }
 },
 "nbformat": 4,
 "nbformat_minor": 2
}
